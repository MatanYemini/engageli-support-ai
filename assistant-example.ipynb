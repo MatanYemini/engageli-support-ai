{
 "cells": [
  {
   "cell_type": "code",
   "execution_count": 1,
   "metadata": {},
   "outputs": [
    {
     "name": "stdout",
     "output_type": "stream",
     "text": [
      "Defaulting to user installation because normal site-packages is not writeable\n",
      "Collecting openai\n",
      "  Downloading openai-1.3.3-py3-none-any.whl (220 kB)\n",
      "\u001b[2K     \u001b[90m━━━━━━━━━━━━━━━━━━━━━━━━━━━━━━━━━━━━━━━\u001b[0m \u001b[32m220.3/220.3 kB\u001b[0m \u001b[31m1.9 MB/s\u001b[0m eta \u001b[36m0:00:00\u001b[0ma \u001b[36m0:00:01\u001b[0m\n",
      "\u001b[?25hRequirement already satisfied: typing-extensions<5,>=4.5 in /home/matan/.local/lib/python3.8/site-packages (from openai) (4.8.0)\n",
      "Collecting httpx<1,>=0.23.0\n",
      "  Downloading httpx-0.25.1-py3-none-any.whl (75 kB)\n",
      "\u001b[2K     \u001b[90m━━━━━━━━━━━━━━━━━━━━━━━━━━━━━━━━━━━━━━━━\u001b[0m \u001b[32m75.0/75.0 kB\u001b[0m \u001b[31m11.3 MB/s\u001b[0m eta \u001b[36m0:00:00\u001b[0m\n",
      "\u001b[?25hCollecting distro<2,>=1.7.0\n",
      "  Downloading distro-1.8.0-py3-none-any.whl (20 kB)\n",
      "Requirement already satisfied: tqdm>4 in /home/matan/.local/lib/python3.8/site-packages (from openai) (4.66.1)\n",
      "Collecting pydantic<3,>=1.9.0\n",
      "  Downloading pydantic-2.5.1-py3-none-any.whl (381 kB)\n",
      "\u001b[2K     \u001b[90m━━━━━━━━━━━━━━━━━━━━━━━━━━━━━━━━━━━━━━━\u001b[0m \u001b[32m381.6/381.6 kB\u001b[0m \u001b[31m6.8 MB/s\u001b[0m eta \u001b[36m0:00:00\u001b[0ma \u001b[36m0:00:01\u001b[0m\n",
      "\u001b[?25hCollecting anyio<4,>=3.5.0\n",
      "  Downloading anyio-3.7.1-py3-none-any.whl (80 kB)\n",
      "\u001b[2K     \u001b[90m━━━━━━━━━━━━━━━━━━━━━━━━━━━━━━━━━━━━━━━━\u001b[0m \u001b[32m80.9/80.9 kB\u001b[0m \u001b[31m7.4 MB/s\u001b[0m eta \u001b[36m0:00:00\u001b[0m\n",
      "\u001b[?25hCollecting exceptiongroup\n",
      "  Downloading exceptiongroup-1.1.3-py3-none-any.whl (14 kB)\n",
      "Collecting sniffio>=1.1\n",
      "  Using cached sniffio-1.3.0-py3-none-any.whl (10 kB)\n",
      "Requirement already satisfied: idna>=2.8 in /usr/lib/python3/dist-packages (from anyio<4,>=3.5.0->openai) (2.8)\n",
      "Requirement already satisfied: certifi in /usr/lib/python3/dist-packages (from httpx<1,>=0.23.0->openai) (2019.11.28)\n",
      "Collecting httpcore\n",
      "  Downloading httpcore-1.0.2-py3-none-any.whl (76 kB)\n",
      "\u001b[2K     \u001b[90m━━━━━━━━━━━━━━━━━━━━━━━━━━━━━━━━━━━━━━━━\u001b[0m \u001b[32m76.9/76.9 kB\u001b[0m \u001b[31m17.4 MB/s\u001b[0m eta \u001b[36m0:00:00\u001b[0m\n",
      "\u001b[?25hCollecting pydantic-core==2.14.3\n",
      "  Downloading pydantic_core-2.14.3-cp38-cp38-manylinux_2_17_x86_64.manylinux2014_x86_64.whl (2.0 MB)\n",
      "\u001b[2K     \u001b[90m━━━━━━━━━━━━━━━━━━━━━━━━━━━━━━━━━━━━━━━━\u001b[0m \u001b[32m2.0/2.0 MB\u001b[0m \u001b[31m21.8 MB/s\u001b[0m eta \u001b[36m0:00:00\u001b[0ma \u001b[36m0:00:01\u001b[0m\n",
      "\u001b[?25hCollecting annotated-types>=0.4.0\n",
      "  Downloading annotated_types-0.6.0-py3-none-any.whl (12 kB)\n",
      "Collecting h11<0.15,>=0.13\n",
      "  Using cached h11-0.14.0-py3-none-any.whl (58 kB)\n",
      "Installing collected packages: sniffio, pydantic-core, h11, exceptiongroup, distro, annotated-types, pydantic, httpcore, anyio, httpx, openai\n",
      "Successfully installed annotated-types-0.6.0 anyio-3.7.1 distro-1.8.0 exceptiongroup-1.1.3 h11-0.14.0 httpcore-1.0.2 httpx-0.25.1 openai-1.3.3 pydantic-2.5.1 pydantic-core-2.14.3 sniffio-1.3.0\n",
      "\n",
      "\u001b[1m[\u001b[0m\u001b[34;49mnotice\u001b[0m\u001b[1;39;49m]\u001b[0m\u001b[39;49m A new release of pip is available: \u001b[0m\u001b[31;49m23.0.1\u001b[0m\u001b[39;49m -> \u001b[0m\u001b[32;49m23.3.1\u001b[0m\n",
      "\u001b[1m[\u001b[0m\u001b[34;49mnotice\u001b[0m\u001b[1;39;49m]\u001b[0m\u001b[39;49m To update, run: \u001b[0m\u001b[32;49mpip install --upgrade pip\u001b[0m\n",
      "Note: you may need to restart the kernel to use updated packages.\n"
     ]
    }
   ],
   "source": [
    "%pip install openai"
   ]
  },
  {
   "cell_type": "code",
   "execution_count": 2,
   "metadata": {},
   "outputs": [],
   "source": [
    "assistant_id = \"asst_696neTngVvUnkrYX09bmFvXq\"\n"
   ]
  },
  {
   "cell_type": "code",
   "execution_count": 4,
   "metadata": {},
   "outputs": [],
   "source": [
    "from openai import OpenAI\n",
    "\n",
    "\n",
    "\n",
    "MATH_ASSISTANT_ID = assistant_id  # or a hard-coded ID like \"asst-...\"\n",
    "\n",
    "client = OpenAI()\n",
    "\n",
    "def submit_message(assistant_id, thread, user_message):\n",
    "    client.beta.threads.messages.create(\n",
    "        thread_id=thread.id, role=\"user\", content=user_message\n",
    "    )\n",
    "    return client.beta.threads.runs.create(\n",
    "        thread_id=thread.id,\n",
    "        assistant_id=assistant_id,\n",
    "    )\n",
    "\n",
    "\n",
    "def get_response(thread):\n",
    "    return client.beta.threads.messages.list(thread_id=thread.id, order=\"asc\")"
   ]
  },
  {
   "cell_type": "code",
   "execution_count": 5,
   "metadata": {},
   "outputs": [],
   "source": [
    "def create_thread_and_run(user_input):\n",
    "    thread = client.beta.threads.create()\n",
    "    run = submit_message(MATH_ASSISTANT_ID, thread, user_input)\n",
    "    return thread, run"
   ]
  },
  {
   "cell_type": "code",
   "execution_count": 7,
   "metadata": {},
   "outputs": [],
   "source": [
    "import time\n",
    "\n",
    "# Pretty printing helper\n",
    "def pretty_print(messages):\n",
    "    print(\"# Messages\")\n",
    "    for m in messages:\n",
    "        print(f\"{m.role}: {m.content[0].text.value}\")\n",
    "    print()\n",
    "\n",
    "\n",
    "# Waiting in a loop\n",
    "def wait_on_run(run, thread):\n",
    "    while run.status == \"queued\" or run.status == \"in_progress\":\n",
    "        run = client.beta.threads.runs.retrieve(\n",
    "            thread_id=thread.id,\n",
    "            run_id=run.id,\n",
    "        )\n",
    "        time.sleep(0.5)\n",
    "    return run\n",
    "\n"
   ]
  },
  {
   "cell_type": "code",
   "execution_count": 9,
   "metadata": {},
   "outputs": [
    {
     "name": "stdout",
     "output_type": "stream",
     "text": [
      "# Messages\n",
      "user: How can I share screen as an instructor?\n",
      "assistant: To share your screen as an instructor while teaching on Engageli using Chrome, Edge, or Brave, please follow these steps:\n",
      "\n",
      "1. Make sure the window you want to share is open and not minimized.\n",
      "2. Click the \"Present\" button in the middle of your instructor controls at the bottom of the screen.\n",
      "3. Under \"Classroom activities,\" click \"Screen Share.\"\n",
      "4. Choose to share either a \"Browser Tab,\" a \"Window,\" or your \"Entire Screen.\"\n",
      "   - If you select \"Browser Tab,\" choose the tab you want to share. Once highlighted, the \"Share\" button will become enabled.\n",
      "5. Click \"Share.\"\n",
      "6. Your view will switch to what you are sharing, and by default, Engageli will show the \"Class Gallery.\" You can see your screen share in the green \"Screen Sharing with Class\" window, which you can collapse if you wish.\n",
      "7. If you want to annotate the screen share, you can click the \"Annotate Screen\" button in the \"Screen Sharing with Class\" window, or select the \"Class Share\" tab at the top and click \"Annotate Screen.\"\n",
      "8. To stop sharing, choose one of the following options depending on what you are sharing and where you are in Engageli:\n",
      "   - Click the \"Stop sharing\" button at the top of the screen if you're sharing a browser tab.\n",
      "   - Click the \"Stop Class Share\" button in the middle of the screen on the \"Class Share\" tab.\n",
      "   - Click the \"Stop Class Share\" button in the middle of the \"My Screen Preview\" window.\n",
      "   - Click the \"Present\" button, and then \"STOP\"【9†source】.\n",
      "\n"
     ]
    },
    {
     "data": {
      "text/plain": [
       "SyncCursorPage[ThreadMessage](data=[ThreadMessage(id='msg_enqBhbH8sW6bfec2dvz509j4', assistant_id=None, content=[MessageContentText(text=Text(annotations=[], value='How can I share screen as an instructor?'), type='text')], created_at=1700385614, file_ids=[], metadata={}, object='thread.message', role='user', run_id=None, thread_id='thread_jvyhukqtkD4Q3Am9LmVcuowb'), ThreadMessage(id='msg_AqpMo8zZxYRxJJhAi0rz0glo', assistant_id='asst_696neTngVvUnkrYX09bmFvXq', content=[MessageContentText(text=Text(annotations=[TextAnnotationFileCitation(end_index=1455, file_citation=TextAnnotationFileCitationFileCitation(file_id='file-9nDo7Twm1jOWSmxdQk5zqGNY', quote=\"To share your screen while teaching on Engageli via Chrome, Edge, or Brave, follow these steps:\\\\n\\\\n1. Make sure the window you want to share is open and not minimized.\\\\n\\\\n2. Click the Present button in the middle of your instructor controls at the bottom of the screen.\\\\n\\\\n3. Under Classroom activities, click Screen Share.\\\\n\\\\n4. Choose either Browser Tab, Window, or Entire Screen.\\\\n\\\\nBrowser TabWindowEntire Screen\\\\nSelect the tab that you want to share. Once highlighted, the Share button will become enabled. \\\\n\\\\n5. Click Share.\\\\n\\\\n6. Your view will switch to what you are sharing.\\xa0\\\\n\\\\n7. In Engageli, your view will default to the Class Gallery. You can see your screen share in the green Screen Sharing with Class window, which you can collapse.\\xa0\\\\n\\\\n8. If you want to annotate the screen share, you can click the Annotate Screen button in the Screen Sharing with Class window, or select the Class Share tab at the top and click Annotate Screen.\\\\n\\\\n9. To stop sharing, choose one of 4 options:\\\\n\\\\nClick the Stop sharing button at the top of the screen if you're sharing a browser tab.\\\\nClick the Stop Class Share button in the middle of the screen on the Class Share tab. \\\\nClick the Stop Class Share button in the middle of the My Screen Preview window.\\xa0 \\xa0 \\xa0 \\xa0 \\xa0 \\xa0 \\xa0 \\xa0 \\xa0 \\xa0 \\xa0 \\xa0 \\xa0 \\\\nClick the Present button, and then STOP\"), start_index=1445, text='【9†source】', type='file_citation')], value='To share your screen as an instructor while teaching on Engageli using Chrome, Edge, or Brave, please follow these steps:\\n\\n1. Make sure the window you want to share is open and not minimized.\\n2. Click the \"Present\" button in the middle of your instructor controls at the bottom of the screen.\\n3. Under \"Classroom activities,\" click \"Screen Share.\"\\n4. Choose to share either a \"Browser Tab,\" a \"Window,\" or your \"Entire Screen.\"\\n   - If you select \"Browser Tab,\" choose the tab you want to share. Once highlighted, the \"Share\" button will become enabled.\\n5. Click \"Share.\"\\n6. Your view will switch to what you are sharing, and by default, Engageli will show the \"Class Gallery.\" You can see your screen share in the green \"Screen Sharing with Class\" window, which you can collapse if you wish.\\n7. If you want to annotate the screen share, you can click the \"Annotate Screen\" button in the \"Screen Sharing with Class\" window, or select the \"Class Share\" tab at the top and click \"Annotate Screen.\"\\n8. To stop sharing, choose one of the following options depending on what you are sharing and where you are in Engageli:\\n   - Click the \"Stop sharing\" button at the top of the screen if you\\'re sharing a browser tab.\\n   - Click the \"Stop Class Share\" button in the middle of the screen on the \"Class Share\" tab.\\n   - Click the \"Stop Class Share\" button in the middle of the \"My Screen Preview\" window.\\n   - Click the \"Present\" button, and then \"STOP\"【9†source】.'), type='text')], created_at=1700385623, file_ids=[], metadata={}, object='thread.message', role='assistant', run_id='run_4uHxdP5qOInQOfsRWW7xFqJk', thread_id='thread_jvyhukqtkD4Q3Am9LmVcuowb')], object='list', first_id='msg_enqBhbH8sW6bfec2dvz509j4', last_id='msg_AqpMo8zZxYRxJJhAi0rz0glo', has_more=False)"
      ]
     },
     "execution_count": 9,
     "metadata": {},
     "output_type": "execute_result"
    }
   ],
   "source": [
    "# Wait for Run 1\n",
    "\n",
    "thread1, run1 = create_thread_and_run(\n",
    "    \"How can I share screen as an instructor?\"\n",
    ")\n",
    "run1 = wait_on_run(run1, thread1)\n",
    "pretty_print(get_response(thread1))\n",
    "get_response(thread1)"
   ]
  }
 ],
 "metadata": {
  "kernelspec": {
   "display_name": "Python 3",
   "language": "python",
   "name": "python3"
  },
  "language_info": {
   "codemirror_mode": {
    "name": "ipython",
    "version": 3
   },
   "file_extension": ".py",
   "mimetype": "text/x-python",
   "name": "python",
   "nbconvert_exporter": "python",
   "pygments_lexer": "ipython3",
   "version": "3.8.10"
  }
 },
 "nbformat": 4,
 "nbformat_minor": 2
}
